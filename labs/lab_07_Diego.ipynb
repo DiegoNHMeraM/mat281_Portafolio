{
 "cells": [
  {
   "cell_type": "markdown",
   "metadata": {},
   "source": [
    "# MAT281 - Laboratorios N°07"
   ]
  },
  {
   "cell_type": "markdown",
   "metadata": {},
   "source": [
    "<a id='p1'></a>\n",
    "## I.- Problema 01\n",
    "\n",
    "\n",
    "<img src=\"https://upload.wikimedia.org/wikipedia/commons/thumb/b/b6/Anscombe.svg/1200px-Anscombe.svg.png\" width=\"360\" height=\"360\" align=\"center\"/>\n",
    "\n"
   ]
  },
  {
   "cell_type": "markdown",
   "metadata": {},
   "source": [
    "El **cuarteto de Anscombe** comprende cuatro conjuntos de datos que tienen las mismas propiedades estadísticas, pero que evidentemente son distintas al inspeccionar sus gráficos respectivos.\n",
    "\n",
    "Cada conjunto consiste de once puntos (x, y) y fueron construidos por el estadístico F. J. Anscombe. El cuarteto es una demostración de la importancia de mirar gráficamente un conjunto de datos antes de analizarlos."
   ]
  },
  {
   "cell_type": "code",
   "execution_count": 1,
   "metadata": {},
   "outputs": [],
   "source": [
    "import os\n",
    "import numpy as np\n",
    "import pandas as pd\n",
    "import matplotlib.pyplot as plt\n",
    "import seaborn as sns\n",
    "\n",
    "%matplotlib inline\n",
    "sns.set_palette(\"deep\", desat=.6)\n",
    "sns.set(rc={'figure.figsize':(11.7,8.27)})"
   ]
  },
  {
   "cell_type": "code",
   "execution_count": 2,
   "metadata": {},
   "outputs": [
    {
     "data": {
      "text/html": [
       "<div>\n",
       "<style scoped>\n",
       "    .dataframe tbody tr th:only-of-type {\n",
       "        vertical-align: middle;\n",
       "    }\n",
       "\n",
       "    .dataframe tbody tr th {\n",
       "        vertical-align: top;\n",
       "    }\n",
       "\n",
       "    .dataframe thead th {\n",
       "        text-align: right;\n",
       "    }\n",
       "</style>\n",
       "<table border=\"1\" class=\"dataframe\">\n",
       "  <thead>\n",
       "    <tr style=\"text-align: right;\">\n",
       "      <th></th>\n",
       "      <th>x</th>\n",
       "      <th>y</th>\n",
       "      <th>grupo</th>\n",
       "    </tr>\n",
       "  </thead>\n",
       "  <tbody>\n",
       "    <tr>\n",
       "      <th>0</th>\n",
       "      <td>10</td>\n",
       "      <td>8.04</td>\n",
       "      <td>Grupo_1</td>\n",
       "    </tr>\n",
       "    <tr>\n",
       "      <th>1</th>\n",
       "      <td>8</td>\n",
       "      <td>6.95</td>\n",
       "      <td>Grupo_1</td>\n",
       "    </tr>\n",
       "    <tr>\n",
       "      <th>2</th>\n",
       "      <td>13</td>\n",
       "      <td>7.58</td>\n",
       "      <td>Grupo_1</td>\n",
       "    </tr>\n",
       "    <tr>\n",
       "      <th>3</th>\n",
       "      <td>9</td>\n",
       "      <td>8.81</td>\n",
       "      <td>Grupo_1</td>\n",
       "    </tr>\n",
       "    <tr>\n",
       "      <th>4</th>\n",
       "      <td>11</td>\n",
       "      <td>8.33</td>\n",
       "      <td>Grupo_1</td>\n",
       "    </tr>\n",
       "  </tbody>\n",
       "</table>\n",
       "</div>"
      ],
      "text/plain": [
       "    x     y    grupo\n",
       "0  10  8.04  Grupo_1\n",
       "1   8  6.95  Grupo_1\n",
       "2  13  7.58  Grupo_1\n",
       "3   9  8.81  Grupo_1\n",
       "4  11  8.33  Grupo_1"
      ]
     },
     "execution_count": 2,
     "metadata": {},
     "output_type": "execute_result"
    }
   ],
   "source": [
    "# cargar datos\n",
    "df = pd.read_csv(os.path.join(\"data\",\"anscombe.csv\"), sep=\",\")\n",
    "df.head()"
   ]
  },
  {
   "cell_type": "markdown",
   "metadata": {},
   "source": [
    "Basado en la información presentada responda las siguientes preguntas:\n",
    "\n",
    "1. Gráfique mediante un gráfico tipo **scatter** cada grupo. A simple vista, ¿ los grupos son muy distintos entre si?.\n",
    "2. Realice un resumen de las medidas estadísticas más significativas ocuapando el comando **describe** para cada grupo. Interprete.\n",
    "3. Realice un ajuste lineal para cada grupo. Además, grafique los resultados de la regresión lineal para cada grupo. Interprete.\n",
    "4. Calcule los resultados de las métricas para cada grupo. Interprete.\n",
    "5. Es claro que el ajuste lineal para algunos grupos no es el correcto. Existen varias formas de solucionar este problema (eliminar outliers, otros modelos, etc.). Identifique una estrategia para que el modelo de regresión lineal ajuste de mejor manera e implemente otros modelos en los casos que encuentre necesario.  "
   ]
  },
  {
   "cell_type": "markdown",
   "metadata": {},
   "source": [
    "### Pregunta 1"
   ]
  },
  {
   "cell_type": "code",
   "execution_count": 5,
   "metadata": {},
   "outputs": [
    {
     "data": {
      "image/png": "[encoded data removed]",
      "text/plain": [
       "<Figure size 1152x576 with 4 Axes>"
      ]
     },
     "metadata": {},
     "output_type": "display_data"
    }
   ],
   "source": [
    "groups = range(1, 4 + 1) # Definimos los grupos a recorrer\n",
    "fig, axs = plt.subplots(nrows=2, ncols=2, figsize=(16, 8), sharex=True, sharey=True) # Se inicializa la figura\n",
    "fig.suptitle(\"Cuarteto de Anscombe\") # Título de la figura\n",
    "for i, ax in zip(groups, axs.ravel()): # Recorremos los 4 grupos\n",
    "    dfa = df[(df['grupo'] == f'Grupo_{i}')]\n",
    "    x = dfa.loc[:, \"x\"].values # obtenemos los valores en x de cada grupo\n",
    "    y = dfa.loc[:, \"y\"].values # obtenemos los valores en y de cada grupo\n",
    "    ax.plot(x, y, 'o') # graficamos los puntos.\n",
    "    ax.set_title(f\"Grupo {i}\") # Títulos de las subfiguras"
   ]
  },
  {
   "cell_type": "markdown",
   "metadata": {},
   "source": [
    "- Se forma gráfica se aprecia una gran diferencia entre los grupos de datos. No solo se aprecian comportamientos lineales, cuadrático o de dispersión, sino también vemos datos que podría ser considerados outliers"
   ]
  },
  {
   "cell_type": "markdown",
   "metadata": {},
   "source": [
    "### Pregunta 2"
   ]
  },
  {
   "cell_type": "code",
   "execution_count": 6,
   "metadata": {},
   "outputs": [
    {
     "name": "stdout",
     "output_type": "stream",
     "text": [
      "               x          y\n",
      "count  11.000000  11.000000\n",
      "mean    9.000000   7.500909\n",
      "std     3.316625   2.031568\n",
      "min     4.000000   4.260000\n",
      "25%     6.500000   6.315000\n",
      "50%     9.000000   7.580000\n",
      "75%    11.500000   8.570000\n",
      "max    14.000000  10.840000\n",
      "               x          y\n",
      "count  11.000000  11.000000\n",
      "mean    9.000000   7.500909\n",
      "std     3.316625   2.031657\n",
      "min     4.000000   3.100000\n",
      "25%     6.500000   6.695000\n",
      "50%     9.000000   8.140000\n",
      "75%    11.500000   8.950000\n",
      "max    14.000000   9.260000\n",
      "               x          y\n",
      "count  11.000000  11.000000\n",
      "mean    9.000000   7.500000\n",
      "std     3.316625   2.030424\n",
      "min     4.000000   5.390000\n",
      "25%     6.500000   6.250000\n",
      "50%     9.000000   7.110000\n",
      "75%    11.500000   7.980000\n",
      "max    14.000000  12.740000\n",
      "               x          y\n",
      "count  11.000000  11.000000\n",
      "mean    9.000000   7.500909\n",
      "std     3.316625   2.030579\n",
      "min     8.000000   5.250000\n",
      "25%     8.000000   6.170000\n",
      "50%     8.000000   7.040000\n",
      "75%     8.000000   8.190000\n",
      "max    19.000000  12.500000\n"
     ]
    }
   ],
   "source": [
    "for i in range(1, 4 + 1): # Recorrimos los grupos\n",
    "    dfa = df[(df['grupo'] == f'Grupo_{i}')]\n",
    "    print(dfa.describe()) # utilizamos en comando describe() para obtener información."
   ]
  },
  {
   "cell_type": "markdown",
   "metadata": {},
   "source": [
    "- Se aprecia que tanto la media como la desviación estándar para los datos son iguales en los cuatro grupos. Esto refuerza la necesidad de gráficar.\n",
    "- Los rangos intercuantiles si se aprecian diferentes."
   ]
  },
  {
   "cell_type": "markdown",
   "metadata": {},
   "source": [
    "### Pregunta 3"
   ]
  },
  {
   "cell_type": "code",
   "execution_count": 7,
   "metadata": {},
   "outputs": [
    {
     "name": "stdout",
     "output_type": "stream",
     "text": [
      "Grupo 1:\n",
      "\tTiene pendiente 0.50 e intercepto 3.00.\n",
      "\n",
      "Grupo 2:\n",
      "\tTiene pendiente 0.50 e intercepto 3.00.\n",
      "\n",
      "Grupo 3:\n",
      "\tTiene pendiente 0.50 e intercepto 3.00.\n",
      "\n",
      "Grupo 4:\n",
      "\tTiene pendiente 0.50 e intercepto 3.00.\n",
      "\n"
     ]
    }
   ],
   "source": [
    "# Previamente realizamos un análisis sencillo de los datos, específicamente de su pendiente y el punto de intersección con el \n",
    "# eje Y\n",
    "for i in range(1, 4 + 1): # Recorremos los grupos\n",
    "    dfa = df[(df['grupo'] == f'Grupo_{i}')]\n",
    "    x = dfa.loc[:, \"x\"].values  # obtenemos los valores en x de cada grupo\n",
    "    y = dfa.loc[:, \"y\"].values  # obtenemos los valores en y de cada grupo\n",
    "    slope, intercept = np.polyfit(x, y, 1) # Ajustamos una recta a los datos.\n",
    "    print(f\"Grupo {i}:\\n\\tTiene pendiente {slope:.2f} e intercepto {intercept:.2f}.\\n\") # imprimimos los datos que buscamos."
   ]
  },
  {
   "cell_type": "markdown",
   "metadata": {},
   "source": [
    "- Se aprecia que todos los grupos de datos tienen la misma pendiente y mismo intercepto considerando una ajuste lineal de estos. Esto podría hacernos pensar que tienen una dispersión de puntos similar. Para verificar esto se procede a gráficar los datos."
   ]
  },
  {
   "cell_type": "code",
   "execution_count": 8,
   "metadata": {},
   "outputs": [
    {
     "data": {
      "image/png": "[encoded data removed]",
      "text/plain": [
       "<Figure size 1152x576 with 4 Axes>"
      ]
     },
     "metadata": {},
     "output_type": "display_data"
    }
   ],
   "source": [
    "groups = range(1, 4 + 1) # Definimos los grupos a recorrer.\n",
    "x_columns = [col for col in df if \"x\" in col]\n",
    "x_aux = np.arange(\n",
    "    df.loc[:, x_columns].values.min() - 1,\n",
    "    df.loc[:, x_columns].values.max() + 2\n",
    ")\n",
    "\n",
    "fig, axs = plt.subplots(nrows=2, ncols=2, figsize=(16, 8), sharex=True, sharey=True) # Inicializamos la figura\n",
    "fig.suptitle(\"Cuarteto de Anscombe\") # Título de la figura\n",
    "for i, ax in zip(groups, axs.ravel()): # Recorremos los grupos\n",
    "    dfa = df[(df['grupo'] == f'Grupo_{i}')] # obtenemos la información de cada grupo\n",
    "    x = dfa.loc[:, \"x\"].values # obtenemos los valores en x de cada grupo\n",
    "    y = dfa.loc[:, \"y\"].values # obtenemos los valores en y de cada grupo\n",
    "    m, b = np.polyfit(x, y, 1) # Ajustamos un polinomio de grado 1 (recta)\n",
    "    ax.plot(x, y, 'o') # Graficamos los datos\n",
    "    ax.plot(x_aux, m * x_aux + b, 'r', lw=2.0) # Graficamos la recta ajustada.\n",
    "    ax.set_title(f\"Grupo {i}\") # Título de cada subgráfico"
   ]
  },
  {
   "cell_type": "markdown",
   "metadata": {},
   "source": [
    "- Al igual que ya habiamos analizado previamente, se tiene que el ajuste lineal no logra capturar de buena forma los comportamientos de los 4 grupos de datos."
   ]
  },
  {
   "cell_type": "markdown",
   "metadata": {},
   "source": [
    "### Preguntas 4 y 5"
   ]
  },
  {
   "cell_type": "code",
   "execution_count": 10,
   "metadata": {},
   "outputs": [],
   "source": [
    "# Importamos las librerias que vamos a utilizar\n",
    "from sklearn import datasets\n",
    "from sklearn.model_selection import train_test_split\n",
    "from sklearn.linear_model import LinearRegression\n",
    "from sklearn import linear_model\n",
    "from sklearn import tree\n",
    "from sklearn import svm\n",
    "from sklearn import neighbors\n",
    "from sklearn.metrics import explained_variance_score, r2_score, max_error, mean_absolute_error, mean_squared_error\n",
    "from sklearn.metrics import mean_squared_log_error, median_absolute_error"
   ]
  },
  {
   "cell_type": "code",
   "execution_count": 11,
   "metadata": {},
   "outputs": [],
   "source": [
    "# Se trabajará con una clase\n",
    "class SklearnRegressionModels:\n",
    "    def __init__(self,model,name_model):\n",
    "\n",
    "        self.model = model\n",
    "        self.name_model = name_model\n",
    "        \n",
    "    @staticmethod\n",
    "    # Obtenemos los conjuntos de entrenamiento y testeo\n",
    "    def test_train_model(X,y,n_size):\n",
    "        X_train, X_test, y_train, y_test = train_test_split(X, y,test_size=n_size , random_state=42)\n",
    "        return X_train, X_test, y_train, y_test\n",
    "    \n",
    "    # Ajustamos en modelo a los conjuntos de entrenamiento\n",
    "    def fit_model(self,X,y,test_size):\n",
    "        X_train, X_test, y_train, y_test = self.test_train_model(X,y,test_size )\n",
    "        return self.model.fit(X_train, y_train) \n",
    "    \n",
    "    # Testeamos el modelo con el conjunto de testeo.\n",
    "    def df_testig(self,X,y,test_size):\n",
    "        X_train, X_test, y_train, y_test = self.test_train_model(X,y,test_size )\n",
    "        model_fit = self.model.fit(X_train, y_train)\n",
    "        preds = model_fit.predict(X_test)\n",
    "        df_temp = pd.DataFrame(\n",
    "            {\n",
    "                'y':y_test,\n",
    "                'yhat': model_fit.predict(X_test)\n",
    "            }\n",
    "        )\n",
    "        \n",
    "        return df_temp\n",
    "    \n",
    "    # Definimos las métricas a evaluar\n",
    "    def metrics(self,X,y,test_size):\n",
    "        df_temp = self.df_testig(X,y,test_size)\n",
    "        exp_var = explained_variance_score(df_temp['y'],df_temp['yhat'])\n",
    "        r2 = round(r2_score(df_temp['y'],df_temp['yhat']),4)\n",
    "        MAE = mean_absolute_error(df_temp['y'],df_temp['yhat'])\n",
    "        MSE = mean_squared_error(df_temp['y'],df_temp['yhat'])\n",
    "        MSLE = mean_squared_log_error(df_temp['y'],df_temp['yhat'])\n",
    "        MedAE = median_absolute_error(df_temp['y'],df_temp['yhat'])\n",
    "        \n",
    "        df_metrics = pd.DataFrame()\n",
    "        \n",
    "        df_metrics = df_metrics.append({\n",
    "            'exp_var':exp_var,\n",
    "            'r2': r2,\n",
    "            'MAE':MAE,\n",
    "            'MSE':MSE,\n",
    "            'MSLE':MSLE,\n",
    "            'MedAE':MedAE,\n",
    "            'model':self.name_model\n",
    "        }, ignore_index=True)\n",
    "        \n",
    "        return df_metrics\n",
    "\n",
    "    def parameters(self,X,y,test_size):\n",
    "        model_fit = self.fit_model(X,y,test_size)\n",
    "        \n",
    "        list_betas = [\n",
    "             ('beta_0',model_fit.intercept_)\n",
    "                ]\n",
    "            \n",
    "        betas = model_fit.coef_\n",
    "        \n",
    "        for num, beta in enumerate(betas):\n",
    "            name_beta = f'beta_{num+1}'\n",
    "            list_betas.append((name_beta,round(beta,2)))\n",
    "\n",
    "        result = pd.DataFrame(\n",
    "            columns = ['coef','value'],\n",
    "            data = list_betas\n",
    "        )\n",
    "        \n",
    "        result['model'] = self.name_model\n",
    "        return result "
   ]
  },
  {
   "cell_type": "code",
   "execution_count": 40,
   "metadata": {},
   "outputs": [],
   "source": [
    "# Se definen los modelos a utilizar\n",
    "reg_lineal = linear_model.LinearRegression()\n",
    "reg_ridge = linear_model.Ridge(alpha=.5)\n",
    "reg_lasso = linear_model.Lasso(alpha=0.1)\n",
    "\n",
    "reg_knn = neighbors.KNeighborsRegressor(5,weights='uniform')\n",
    "reg_bayesian = linear_model.BayesianRidge()\n",
    "reg_tree = tree.DecisionTreeRegressor(max_depth=5)\n",
    "reg_svm = svm.SVR(kernel='linear')\n",
    "\n",
    "# Se crea las lista de los modelos previamente definidos.\n",
    "list_models =[\n",
    "    [reg_lineal,'lineal'],\n",
    "    [reg_ridge,'ridge'],\n",
    "    [reg_lasso,'lasso'],\n",
    "    [reg_knn,'knn'],\n",
    "    [reg_bayesian,'bayesian'],\n",
    "    [reg_tree,'decision_tree'],\n",
    "    [reg_svm,'svm'],\n",
    "]"
   ]
  },
  {
   "cell_type": "markdown",
   "metadata": {},
   "source": [
    "### Pregunta 4"
   ]
  },
  {
   "cell_type": "code",
   "execution_count": 41,
   "metadata": {},
   "outputs": [
    {
     "name": "stdout",
     "output_type": "stream",
     "text": [
      "Metricas para el Grupos 1\n",
      "        MAE       MSE      MSLE     MedAE  exp_var   model      r2\n",
      "0  0.716132  1.257577  0.027581  0.126154   0.8344  lineal  0.7204\n",
      "\n",
      "Metricas para el Grupos 2\n",
      "       MAE       MSE      MSLE     MedAE   exp_var   model      r2\n",
      "0  1.49859  2.850419  0.029208  0.948846 -3.728407  lineal -3.8207\n",
      "\n",
      "Metricas para el Grupos 3\n",
      "        MAE       MSE      MSLE     MedAE   exp_var   model      r2\n",
      "0  0.981303  1.454809  0.013736  0.897885  0.499381  lineal -0.4807\n",
      "\n",
      "Metricas para el Grupos 4\n",
      "        MAE       MSE      MSLE     MedAE  exp_var   model      r2\n",
      "0  0.481429  0.367133  0.005299  0.345714      0.0  lineal -0.2071\n",
      "\n"
     ]
    }
   ],
   "source": [
    "# Seleccionamos el modelo lineal para esta pregunta\n",
    "model1 = reg_lineal\n",
    "name_models1 = 'lineal'\n",
    "\n",
    "for i in range(1, 4+1): # Recorremos los cuatro grupos\n",
    "    dfa = df[(df['grupo'] == f'Grupo_{i}')] # Obtenemos los datos de cada grupo\n",
    "    X = dfa[['x']] # obtenemos los valores en x de cada grupo\n",
    "    Y = dfa['y'] # obtenemos los valores en y de cada grupo\n",
    "\n",
    "    frames_metrics = [] # Creamos listas vacías para guardar datos.\n",
    "    frames_coef = []\n",
    "\n",
    "    fit_model =  SklearnRegressionModels( model1,name_models1) # aplicamos el modelo elegido a la clase definida previamente\n",
    "    frames_metrics.append(fit_model.metrics(X,Y,0.2)) # Agregamos los datos de la métrica a la lista vacía.\n",
    "    if name_models in ['lineal','ridge','lasso']: # En el caso de tratarse de uno de los 2 ajustes se guardan los parámetros.\n",
    "        frames_coef.append(fit_model.parameters(X,Y,0.2))\n",
    "\n",
    "    # juntar resultados: metricas\n",
    "    aux = pd.concat(frames_metrics)\n",
    "    print('Metricas para el Grupos',i) # Mostramos los resultados por pantalla.\n",
    "    print(aux)\n",
    "    print('')"
   ]
  },
  {
   "cell_type": "markdown",
   "metadata": {},
   "source": [
    "- A través de una regresión lineal se aprecia que el grupo que mejor se ajusta a una regresión lineal es el grupo 1.\n",
    "- Se deben ajustar otros modelos de regresión para comprobar el comportamiento de los "
   ]
  },
  {
   "cell_type": "code",
   "execution_count": 42,
   "metadata": {},
   "outputs": [],
   "source": [
    "# Otra forma de resolver la pregunta 4\n",
    "\n",
    "# se cargan los paquetes de sklearn necesarios.\n",
    "#from sklearn import datasets\n",
    "#from sklearn.model_selection import train_test_split\n",
    "#from sklearn.linear_model import LinearRegression\n",
    "#from sklearn.metrics import explained_variance_score, r2_score, max_error, mean_absolute_error, mean_squared_error\n",
    "#from sklearn.metrics import mean_squared_log_error, median_absolute_error\n",
    "\n",
    "# se genera el dataframe con las métricas\n",
    "#df_metrics = pd.DataFrame(columns=[\n",
    "#    'Grupo',\n",
    "#    'exp_var',\n",
    "#    'r2',\n",
    "#    'MAE',\n",
    "#    'MSE',\n",
    "#    'MSLE',\n",
    "#    'MedAE'\n",
    "#])\n",
    "\n",
    "#for i in range(1, 4+1):\n",
    "#    dfa = df[(df['grupo'] == f'Grupo_{i}')]\n",
    "#    X = dfa[['x']]\n",
    "#    y = dfa['y']\n",
    "\n",
    "#    X_train, X_test, Y_train, Y_test = train_test_split(X, y, test_size=0.2, random_state=42)\n",
    "\n",
    "    # ajustar el modelo\n",
    "#    model_rl = LinearRegression() # Creando el modelo.\n",
    "#    model_rl.fit(X_train, Y_train) # ajustando el modelo\n",
    "\n",
    "    # prediciones\n",
    "#    Y_predict = model_rl.predict(X_test)\n",
    "\n",
    "    # Se calculan las métricas, no fue posible utilizar el comand from metrics_regression import * mostrado por el profesor.\n",
    "    # Por tanto, se ingresan a mano las métricas.\n",
    "#    exp_var = explained_variance_score(Y_test, model_rl.predict(X_test))\n",
    "#    r2 = round(r2_score(Y_test, model_rl.predict(X_test)),4)\n",
    "    #max_error = max_error(Y_test, model_rl.predict(X_test))\n",
    "#    MAE = mean_absolute_error(Y_test, model_rl.predict(X_test))\n",
    "#    MSE = mean_squared_error(Y_test, model_rl.predict(X_test))\n",
    "#    MSLE = mean_squared_log_error(Y_test, model_rl.predict(X_test))\n",
    "#    MedAE = median_absolute_error(Y_test, model_rl.predict(X_test))\n",
    "\n",
    "    # se genera el dataframe con las métricas\n",
    "#    df_metrics = df_metrics.append({\n",
    "#        'Grupo':i,\n",
    "#        'exp_var':exp_var,\n",
    "#        'r2': r2,\n",
    "#        'MAE':MAE,\n",
    "#        'MSE':MSE,\n",
    "#        'MSLE':MSLE,\n",
    "#        'MedAE':MedAE\n",
    "#    }, ignore_index=True)\n",
    "#    del dfa\n",
    "\n",
    "#print('Metricas para los Grupos')\n",
    "#df_metrics\n"
   ]
  },
  {
   "cell_type": "markdown",
   "metadata": {},
   "source": [
    "### Pregunta 5"
   ]
  },
  {
   "cell_type": "code",
   "execution_count": 43,
   "metadata": {},
   "outputs": [
    {
     "name": "stdout",
     "output_type": "stream",
     "text": [
      "Metricas para el Grupos 1\n",
      "        MAE       MSE      MSLE     MedAE   exp_var          model      r2\n",
      "0  0.716132  1.257577  0.027581  0.126154  0.834400         lineal  0.7204\n",
      "0  0.710645  1.262156  0.027681  0.121664  0.831640          ridge  0.7193\n",
      "0  0.697329  1.274131  0.027929  0.110769  0.824809          lasso  0.7167\n",
      "0  1.229333  1.821677  0.031076  1.458000  0.609652            knn  0.5949\n",
      "0  0.733956  1.338249  0.029100  0.139368  0.793801       bayesian  0.7024\n",
      "0  1.856667  4.037900  0.062504  2.380000  0.118332  decision_tree  0.1021\n",
      "0  0.663333  1.053433  0.023586  0.150000  0.825114            svm  0.7658\n",
      "\n",
      "Metricas para el Grupos 2\n",
      "        MAE       MSE      MSLE     MedAE   exp_var          model      r2\n",
      "0  1.498590  2.850419  0.029208  0.948846 -3.728407         lineal -3.8207\n",
      "0  1.491271  2.812572  0.028871  0.954642 -3.670091          ridge -3.7567\n",
      "0  1.479786  2.753923  0.028347  0.964038 -3.579469          lasso -3.6575\n",
      "0  0.708000  0.595515  0.008838  0.708000  0.087048            knn -0.0071\n",
      "0  1.460891  2.659407  0.027500  0.979499 -3.432747       bayesian -3.4976\n",
      "0  0.713333  0.607800  0.009215  0.640000  0.111057  decision_tree -0.0279\n",
      "0  1.290000  2.088189  0.021593  0.976667 -2.480123            svm -2.5316\n",
      "\n",
      "Metricas para el Grupos 3\n",
      "        MAE       MSE      MSLE     MedAE   exp_var          model      r2\n",
      "0  0.981303  1.454809  0.013736  0.897885  0.499381         lineal -0.4807\n",
      "0  0.974411  1.426325  0.013502  0.892245  0.514653          ridge -0.4517\n",
      "0  0.962500  1.377873  0.013103  0.882500  0.540487          lasso -0.4024\n",
      "0  0.528000  0.420576  0.005245  0.324000  0.603456            knn  0.5719\n",
      "0  0.918269  1.206506  0.011683  0.846311  0.630237       bayesian -0.2280\n",
      "0  1.530000  5.149367  0.038482  0.350000 -3.075839  decision_tree -4.2411\n",
      "0  0.091905  0.014326  0.000152  0.075714  0.993148            svm  0.9854\n",
      "\n",
      "Metricas para el Grupos 4\n",
      "        MAE       MSE      MSLE     MedAE  exp_var          model      r2\n",
      "0  0.481429  0.367133  0.005299  0.345714      0.0         lineal -0.2071\n",
      "0  0.480337  0.365500  0.005275  0.348989      0.0          ridge -0.2017\n",
      "0  0.477965  0.362026  0.005225  0.356104      0.0          lasso -0.1903\n",
      "0  0.456000  0.334664  0.004837  0.422000      0.0            knn -0.1003\n",
      "0  0.465935  0.345964  0.004995  0.392196      0.0       bayesian -0.1375\n",
      "0  0.481429  0.367133  0.005299  0.345714      0.0  decision_tree -0.2071\n",
      "0  0.460000  0.339000  0.004897  0.410000      0.0            svm -0.1146\n",
      "\n"
     ]
    }
   ],
   "source": [
    "# En esta ocasión no seleccionamos el modelo, probamos todos los previamente definidos.\n",
    "for i in range(1, 4+1): # Recorremos los cuatro grupos\n",
    "    dfa = df[(df['grupo'] == f'Grupo_{i}')] # Obtenemos los datos de cada grupo\n",
    "    X = dfa[['x']] # obtenemos los valores en x de cada grupo\n",
    "    Y = dfa['y'] # obtenemos los valores en y de cada grupo\n",
    "\n",
    "    frames_metrics = [] # Creamos listas vacías para guardar datos.\n",
    "    frames_coef = []\n",
    "\n",
    "    for model,name_models in list_models:\n",
    "        fit_model =  SklearnRegressionModels( model,name_models) # aplicamos el modelo elegido a la clase definida previamente\n",
    "        frames_metrics.append(fit_model.metrics(X,Y,0.2)) # Agregamos los datos de la métrica a la lista vacía.\n",
    "        if name_models in ['lineal','ridge','lasso']: # En el caso de tratarse de uno de los 2 ajustes se guardan los parámetros.\n",
    "            frames_coef.append(fit_model.parameters(X,Y,0.2))\n",
    "\n",
    "    # juntar resultados: metricas\n",
    "    aux = pd.concat(frames_metrics)\n",
    "    print('Metricas para el Grupos',i) # Mostramos los resultados por pantalla.\n",
    "    print(aux)\n",
    "    print('')"
   ]
  },
  {
   "cell_type": "markdown",
   "metadata": {},
   "source": [
    "- **Grupo 1:** Se aprecia que una regresión lineal se ajusta de buena forma obteniendo un r2 de 072, a pesar de esto, si se utiliza svm eliminando ciertos outliers fuera de cierto epsilon podemos mejorar el r2 a 0.766.\n",
    "- **Grupo 2:** Se observa que elr2 no es bueno para ninguno de los modelos. Basandonos en el gráfico de los datos se procede a realizar un ajuste polinomico de grado 2. Este se muestra a continuación.\n",
    "- **Grupo 3:** Para este apreciamos que el ajuste lineal no era bueno, pero el svm dejando fuera cierto outliers (1 dato) mejora la correlación a un 0.9854.\n",
    "- **Grupo 4:** No se aprecia un buen resultado en terminos de correlación, ni en términos de error. Por tanto, se probarán modificaciones en los test."
   ]
  },
  {
   "cell_type": "markdown",
   "metadata": {},
   "source": [
    "### Grupo 2"
   ]
  },
  {
   "cell_type": "code",
   "execution_count": 82,
   "metadata": {},
   "outputs": [
    {
     "data": {
      "image/png": "[encoded data removed]",
      "text/plain": [
       "<Figure size 842.4x595.44 with 1 Axes>"
      ]
     },
     "metadata": {},
     "output_type": "display_data"
    },
    {
     "data": {
      "text/html": [
       "<div>\n",
       "<style scoped>\n",
       "    .dataframe tbody tr th:only-of-type {\n",
       "        vertical-align: middle;\n",
       "    }\n",
       "\n",
       "    .dataframe tbody tr th {\n",
       "        vertical-align: top;\n",
       "    }\n",
       "\n",
       "    .dataframe thead th {\n",
       "        text-align: right;\n",
       "    }\n",
       "</style>\n",
       "<table border=\"1\" class=\"dataframe\">\n",
       "  <thead>\n",
       "    <tr style=\"text-align: right;\">\n",
       "      <th></th>\n",
       "      <th>Grupo</th>\n",
       "      <th>exp_var</th>\n",
       "      <th>Precisión</th>\n",
       "      <th>r2</th>\n",
       "      <th>MAE</th>\n",
       "      <th>MSE</th>\n",
       "      <th>MSLE</th>\n",
       "      <th>MedAE</th>\n",
       "    </tr>\n",
       "  </thead>\n",
       "  <tbody>\n",
       "    <tr>\n",
       "      <th>0</th>\n",
       "      <td>4.0</td>\n",
       "      <td>0.999982</td>\n",
       "      <td>1.0</td>\n",
       "      <td>1.0</td>\n",
       "      <td>0.002186</td>\n",
       "      <td>0.000006</td>\n",
       "      <td>5.978469e-08</td>\n",
       "      <td>0.002705</td>\n",
       "    </tr>\n",
       "  </tbody>\n",
       "</table>\n",
       "</div>"
      ],
      "text/plain": [
       "   Grupo   exp_var  Precisión   r2       MAE       MSE          MSLE     MedAE\n",
       "0    4.0  0.999982        1.0  1.0  0.002186  0.000006  5.978469e-08  0.002705"
      ]
     },
     "execution_count": 82,
     "metadata": {},
     "output_type": "execute_result"
    }
   ],
   "source": [
    "# Se extraen los datos del grupo 2\n",
    "dfa = df[(df['grupo'] == 'Grupo_2')]\n",
    "X_p = dfa[['x']]\n",
    "y_p = dfa['y']\n",
    "\n",
    "from sklearn.model_selection import train_test_split\n",
    "#Separo los datos de \"train\" en entrenamiento y prueba para probar los algoritmos\n",
    "X_train_p, X_test_p, y_train_p, y_test_p = train_test_split(X_p, y_p, test_size=0.2)\n",
    "\n",
    "from sklearn.preprocessing import PolynomialFeatures\n",
    "\n",
    "#Se define el grado del polinomio\n",
    "poli_reg = PolynomialFeatures(degree = 2)\n",
    "\n",
    "#Se transforma las características existentes en características de mayor grado\n",
    "X_train_poli = poli_reg.fit_transform(X_train_p)\n",
    "X_test_poli = poli_reg.fit_transform(X_test_p)\n",
    "\n",
    "#Defino el algoritmo a utilizar\n",
    "pr = linear_model.LinearRegression()\n",
    "\n",
    "#Entreno el modelo\n",
    "pr.fit(X_train_poli, y_train_p)\n",
    "\n",
    "#Realizo una predicción\n",
    "Y_pred_pr = pr.predict(X_test_poli)\n",
    "\n",
    "#Graficamos los datos junto con el modelo\n",
    "plt.scatter(X_test_p, y_test_p)\n",
    "plt.plot(X_test_p, Y_pred_pr, color='red', linewidth=3)\n",
    "plt.show()\n",
    "\n",
    "\n",
    "# se genera el dataframe con las métricas\n",
    "df_metrics = pd.DataFrame(columns=[\n",
    "    'Grupo',\n",
    "    'exp_var',\n",
    "    'Precisión',\n",
    "    'r2',\n",
    "    'MAE',\n",
    "    'MSE',\n",
    "    'MSLE',\n",
    "    'MedAE'\n",
    "])\n",
    "\n",
    "# Se calculan las métricas, no fue posible utilizar el comand from metrics_regression import * mostrado por el profesor.\n",
    "# Por tanto, se ingresan a mano las métricas.\n",
    "exp_var = explained_variance_score(y_test_p,Y_pred_pr)\n",
    "Prc = pr.score(X_train_poli, y_train_p)\n",
    "r2 = round(r2_score(y_test_p,Y_pred_pr),4)\n",
    "MAE = mean_absolute_error(y_test_p,Y_pred_pr)\n",
    "MSE = mean_squared_error(y_test_p,Y_pred_pr)\n",
    "MSLE = mean_squared_log_error(y_test_p,Y_pred_pr)\n",
    "MedAE = median_absolute_error(y_test_p,Y_pred_pr)\n",
    "# se genera el dataframe con las métricas\n",
    "df_metrics = df_metrics.append({\n",
    "    'Grupo':i,\n",
    "    'exp_var':exp_var,\n",
    "    'Precisión':Prc,\n",
    "    'r2': r2,\n",
    "    'MAE':MAE,\n",
    "    'MSE':MSE,\n",
    "    'MSLE':MSLE,\n",
    "    'MedAE':MedAE\n",
    "}, ignore_index=True)\n",
    "df_metrics"
   ]
  },
  {
   "cell_type": "markdown",
   "metadata": {},
   "source": [
    "- Realizando el ajuste polinomico al grupo 2 se observa que la correlación llega a un valor de 1, es decir, se obtiene una correlación perfecta. Se concluye que los datos tenía una distribución cuadrática."
   ]
  },
  {
   "cell_type": "markdown",
   "metadata": {},
   "source": [
    "### Grupo 4"
   ]
  },
  {
   "cell_type": "code",
   "execution_count": 83,
   "metadata": {},
   "outputs": [
    {
     "data": {
      "image/png": "[encoded data removed]",
      "text/plain": [
       "<Figure size 842.4x595.44 with 1 Axes>"
      ]
     },
     "metadata": {},
     "output_type": "display_data"
    }
   ],
   "source": [
    "dfa = df[(df['grupo'] == 'Grupo_4')] # Se obtienen los datos del grupo 4\n",
    "dfan = dfa.drop([40],axis=0) # Se elimina el outlier\n",
    "\n",
    "X = dfan[['x']] # Se obtienen los valores en x para el grupo 4\n",
    "Y = dfan['y'] # Se obtienen los valores en y para el grupo 4\n",
    "\n",
    "plt.plot(X, Y, 'o') # Se grafica\n",
    "plt.title(\"Grupo 4\")\n",
    "plt.show()"
   ]
  },
  {
   "cell_type": "markdown",
   "metadata": {},
   "source": [
    "- Observando el gráfico elimando el outliers apreciamos que los valores se distribuyen en la vertical. No será posible obtener una correlación con los datos de esta forma.\n",
    "- Vamos a analizar la correlación si intercambiamos los ejes, es decir, en la vertical y no en la horizontal como hasta ahora."
   ]
  },
  {
   "cell_type": "code",
   "execution_count": 74,
   "metadata": {},
   "outputs": [
    {
     "name": "stdout",
     "output_type": "stream",
     "text": [
      "Metricas para el Grupos 4\n",
      "   MAE  MSE  MSLE  MedAE  exp_var          model   r2\n",
      "0  0.0  0.0   0.0    0.0      1.0         lineal  1.0\n",
      "0  0.0  0.0   0.0    0.0      1.0          ridge  1.0\n",
      "0  0.0  0.0   0.0    0.0      1.0          lasso  1.0\n",
      "0  0.0  0.0   0.0    0.0      1.0            knn  1.0\n",
      "0  0.0  0.0   0.0    0.0      1.0       bayesian  1.0\n",
      "0  0.0  0.0   0.0    0.0      1.0  decision_tree  1.0\n",
      "0  0.0  0.0   0.0    0.0      1.0            svm  1.0\n"
     ]
    },
    {
     "name": "stderr",
     "output_type": "stream",
     "text": [
      "C:\\Users\\diego.mera\\Anaconda3\\lib\\site-packages\\sklearn\\linear_model\\_coordinate_descent.py:529: ConvergenceWarning: Objective did not converge. You might want to increase the number of iterations. Duality gap: 0.0, tolerance: 0.0\n",
      "  model = cd_fast.enet_coordinate_descent(\n",
      "C:\\Users\\diego.mera\\Anaconda3\\lib\\site-packages\\sklearn\\linear_model\\_coordinate_descent.py:529: ConvergenceWarning: Objective did not converge. You might want to increase the number of iterations. Duality gap: 0.0, tolerance: 0.0\n",
      "  model = cd_fast.enet_coordinate_descent(\n"
     ]
    }
   ],
   "source": [
    "# Intercambiamos ejes para realizar el análisis\n",
    "Y = dfan['x']\n",
    "X = dfan[['y']]\n",
    "\n",
    "frames_metrics = [] # Se generan listas vacías.\n",
    "frames_coef = []\n",
    "\n",
    "for model,name_models in list_models: # Se prueban todos los modeles definidos previamente.\n",
    "    fit_model =  SklearnRegressionModels( model,name_models) # aplicamos el modelo elegido a la clase definida previamente\n",
    "    frames_metrics.append(fit_model.metrics(X,Y,0.2)) # Se obtienen las métricas para cada modelo y se agregar a la lista vacía\n",
    "    if name_models in ['lineal','ridge','lasso']:\n",
    "        frames_coef.append(fit_model.parameters(X,Y,0.2))\n",
    "\n",
    "    # juntar resultados: metricas\n",
    "    aux = pd.concat(frames_metrics)\n",
    "print('Metricas para el Grupos 4')\n",
    "print(aux)"
   ]
  },
  {
   "cell_type": "markdown",
   "metadata": {},
   "source": [
    "- Tal como esperabamos, la correlación en todos los modelos de regresión lineal definidos tenemos una correlación de 1 y errores de 0, es decir, es perfectamente lineal en la vertical."
   ]
  },
  {
   "cell_type": "code",
   "execution_count": null,
   "metadata": {},
   "outputs": [],
   "source": []
  }
 ],
 "metadata": {
  "kernelspec": {
   "display_name": "Python 3",
   "language": "python",
   "name": "python3"
  },
  "language_info": {
   "codemirror_mode": {
    "name": "ipython",
    "version": 3
   },
   "file_extension": ".py",
   "mimetype": "text/x-python",
   "name": "python",
   "nbconvert_exporter": "python",
   "pygments_lexer": "ipython3",
   "version": "3.8.5"
  }
 },
 "nbformat": 4,
 "nbformat_minor": 4
}
