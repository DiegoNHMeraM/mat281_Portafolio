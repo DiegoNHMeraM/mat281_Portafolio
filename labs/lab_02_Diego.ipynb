{
 "cells": [
  {
   "cell_type": "markdown",
   "metadata": {},
   "source": [
    "# MAT281 - Laboratorio N°02\n",
    "\n"
   ]
  },
  {
   "cell_type": "markdown",
   "metadata": {},
   "source": [
    "<a id='p1'></a>\n",
    "\n",
    "## Problema 01\n",
    "\n",
    "Una **media móvil simple** (SMA) es el promedio de los últimos $k$ datos anteriores, es decir, sea $a_1$,$a_2$,...,$a_n$ un arreglo $n$-dimensional, entonces la SMA se define por:\n",
    "\n",
    "$$\\displaystyle sma(k) =\\dfrac{1}{k}(a_{n}+a_{n-1}+...+a_{n-(k-1)}) = \\dfrac{1}{k}\\sum_{i=0}^{k-1}a_{n-i}  $$ \n",
    "\n",
    "\n",
    "Por otro lado podemos definir el SMA con una venta móvil de $n$ si el resultado nos retorna la el promedio ponderado avanzando de la siguiente forma:\n",
    "\n",
    "* $a = [1,2,3,4,5]$, la SMA con una ventana de $n=2$ sería:\n",
    " * sma(2) = [promedio(1,2), promedio(2,3), promedio(3,4), promedio(4,5)] = [1.5, 2.5, 3.5, 4.5]\n",
    "\n",
    "\n",
    "* $a = [1,2,3,4,5]$, la SMA con una ventana de $n=3$ sería:\n",
    " * sma(3) = [promedio(1,2,3), promedio(2,3,4), promedio(3,4,5)] = [2.,3.,4.]\n",
    "\n",
    "\n",
    "Implemente una función llamada `sma` cuyo input sea un arreglo unidimensional $a$ y un entero $n$, y cuyo ouput retorne el valor de la media móvil simple sobre el arreglo de la siguiente forma:\n",
    "\n",
    "* **Ejemplo**: *sma([5,3,8,10,2,1,5,1,0,2], 2)* = $[4. , 5.5, 9. , 6. , 1.5, 3. , 3. , 0.5, 1. ]$\n",
    "\n",
    "En este caso, se esta calculando el SMA para un arreglo con una ventana de $n=2$.\n",
    "\n",
    "**Hint**: utilice la función `numpy.cumsum`"
   ]
  },
  {
   "cell_type": "code",
   "execution_count": 5,
   "metadata": {},
   "outputs": [],
   "source": [
    "# importar librerias\n",
    "import numpy as np "
   ]
  },
  {
   "cell_type": "markdown",
   "metadata": {},
   "source": [
    "### Definir Función"
   ]
  },
  {
   "cell_type": "code",
   "execution_count": 6,
   "metadata": {},
   "outputs": [],
   "source": [
    "def sma(x, window_len):\n",
    "    return np.convolve(x, np.ones(window_len), 'valid') / window_len"
   ]
  },
  {
   "cell_type": "markdown",
   "metadata": {},
   "source": [
    "### Verificar ejemplos"
   ]
  },
  {
   "cell_type": "code",
   "execution_count": 7,
   "metadata": {},
   "outputs": [],
   "source": [
    "# ejemplo 01\n",
    "a = np.array([1,2,3,4,5])\n",
    "\n",
    "np.testing.assert_array_equal(\n",
    "    sma(a, window_len=2),\n",
    "    np.array([1.5, 2.5, 3.5, 4.5])\n",
    ")"
   ]
  },
  {
   "cell_type": "code",
   "execution_count": 8,
   "metadata": {},
   "outputs": [],
   "source": [
    "# ejemplo 02\n",
    "a = np.array([5,3,8,10,2,1,5,1,0,2])\n",
    "\n",
    "np.testing.assert_array_equal(\n",
    "    sma(a, window_len=2),\n",
    "    np.array([4. , 5.5, 9. , 6. , 1.5, 3. , 3. , 0.5, 1. ])\n",
    ")"
   ]
  },
  {
   "cell_type": "markdown",
   "metadata": {},
   "source": [
    "<a id='p2'></a>\n",
    "\n",
    "## Problema 02\n",
    "\n",
    "La función **strides($a,n,p$)**, corresponde a transformar un arreglo unidimensional $a$ en una matriz de $n$ columnas, en el cual las filas se van construyendo desfasando la posición del arreglo en $p$ pasos hacia adelante.\n",
    "\n",
    "* Para el arreglo unidimensional $a$ = [ 1,  2,  3,  4,  5,  6,  7,  8,  9, 10], la función strides($a,4,2$), corresponde a crear una matriz de $4$ columnas, cuyos desfaces hacia adelante se hacen de dos en dos. \n",
    "\n",
    "El resultado tendría que ser algo así:$$\\begin{pmatrix}\n",
    " 1& 2 &3 &4 \\\\ \n",
    " 3&  4&5&6 \\\\ \n",
    " 5& 6 &7 &8 \\\\ \n",
    " 7& 8 &9 &10 \\\\ \n",
    "\\end{pmatrix}$$\n",
    "\n",
    "\n",
    "Implemente una función llamada `strides(a,n,p)` cuyo input sea:\n",
    "* $a$: un arreglo unidimensional, \n",
    "* $n$: el número de columnas,\n",
    "* $p$: el número de pasos hacia adelante  \n",
    "\n",
    "y retorne la matriz de $n$ columnas, cuyos desfaces hacia adelante se hacen de $p$ en $p$ pasos. \n",
    "\n",
    "* **Ejemplo**: *strides($a$,4,2)* =$\\begin{pmatrix}\n",
    " 1& 2 &3 &4 \\\\ \n",
    " 3&  4&5&6 \\\\ \n",
    " 5& 6 &7 &8 \\\\ \n",
    " 7& 8 &9 &10 \\\\ \n",
    "\\end{pmatrix}$\n"
   ]
  },
  {
   "cell_type": "markdown",
   "metadata": {},
   "source": [
    "### Definir Función"
   ]
  },
  {
   "cell_type": "code",
   "execution_count": 9,
   "metadata": {},
   "outputs": [],
   "source": [
    "def strides(a,n,p):\n",
    "    M = np.zeros((n, n))\n",
    "    cont = 0\n",
    "    while cont < (a.shape[0]-2):\n",
    "        for i in range(n):\n",
    "            for j in range(n):\n",
    "                M[i,j] = a[cont]\n",
    "                cont = cont+1\n",
    "            cont = cont-p\n",
    "    return M"
   ]
  },
  {
   "cell_type": "code",
   "execution_count": 10,
   "metadata": {},
   "outputs": [
    {
     "name": "stdout",
     "output_type": "stream",
     "text": [
      "[[1. 2.]\n",
      " [2. 3.]]\n"
     ]
    }
   ],
   "source": [
    "a = np.array([ 1,  2,  3])\n",
    "n=2\n",
    "p=1\n",
    "print(strides(a,n,p))"
   ]
  },
  {
   "cell_type": "code",
   "execution_count": 11,
   "metadata": {},
   "outputs": [
    {
     "name": "stdout",
     "output_type": "stream",
     "text": [
      "[[1. 2.]\n",
      " [3. 4.]]\n"
     ]
    }
   ],
   "source": [
    "a = np.array([ 1,  2,  3, 4])\n",
    "n=2\n",
    "p=0\n",
    "print(strides(a,n,p))"
   ]
  },
  {
   "cell_type": "code",
   "execution_count": 12,
   "metadata": {},
   "outputs": [
    {
     "name": "stdout",
     "output_type": "stream",
     "text": [
      "[[1. 2. 3.]\n",
      " [3. 4. 5.]\n",
      " [5. 6. 7.]]\n"
     ]
    }
   ],
   "source": [
    "a = np.array([ 1,  2,  3,  4,  5,  6,  7])\n",
    "n=3\n",
    "p=1\n",
    "print(strides(a,n,p))"
   ]
  },
  {
   "cell_type": "code",
   "execution_count": 13,
   "metadata": {},
   "outputs": [
    {
     "name": "stdout",
     "output_type": "stream",
     "text": [
      "[[1. 2. 3.]\n",
      " [4. 5. 6.]\n",
      " [7. 8. 9.]]\n"
     ]
    }
   ],
   "source": [
    "a = np.array([ 1,  2,  3,  4,  5,  6,  7, 8, 9])\n",
    "n=3\n",
    "p=0\n",
    "print(strides(a,n,p))"
   ]
  },
  {
   "cell_type": "code",
   "execution_count": 14,
   "metadata": {},
   "outputs": [
    {
     "name": "stdout",
     "output_type": "stream",
     "text": [
      "[[ 1.  2.  3.  4.]\n",
      " [ 3.  4.  5.  6.]\n",
      " [ 5.  6.  7.  8.]\n",
      " [ 7.  8.  9. 10.]]\n"
     ]
    }
   ],
   "source": [
    "a = np.array([ 1,  2,  3,  4,  5,  6,  7,  8,  9, 10])\n",
    "n=4\n",
    "p=2\n",
    "print(strides(a,n,p))"
   ]
  },
  {
   "cell_type": "code",
   "execution_count": 15,
   "metadata": {},
   "outputs": [
    {
     "name": "stdout",
     "output_type": "stream",
     "text": [
      "[[ 1.  2.  3.  4.]\n",
      " [ 4.  5.  6.  7.]\n",
      " [ 7.  8.  9. 10.]\n",
      " [10. 11. 12. 13.]]\n"
     ]
    }
   ],
   "source": [
    "a = np.array([ 1,  2,  3,  4,  5,  6,  7,  8,  9, 10, 11, 12, 13])\n",
    "n=4\n",
    "p=1\n",
    "print(strides(a,n,p))"
   ]
  },
  {
   "cell_type": "markdown",
   "metadata": {},
   "source": [
    "### Verificar ejemplos"
   ]
  },
  {
   "cell_type": "code",
   "execution_count": 16,
   "metadata": {},
   "outputs": [],
   "source": [
    "# ejemplo 01\n",
    "a = np.array([ 1,  2,  3,  4,  5,  6,  7,  8,  9, 10])\n",
    "n=4\n",
    "p=2\n",
    "\n",
    "np.testing.assert_array_equal(\n",
    "    strides(a,n,p),\n",
    "    np.array([\n",
    "       [ 1,  2,  3,  4],\n",
    "       [ 3,  4,  5,  6],\n",
    "       [ 5,  6,  7,  8],\n",
    "       [ 7,  8,  9, 10]\n",
    "    ])\n",
    ")"
   ]
  },
  {
   "cell_type": "markdown",
   "metadata": {},
   "source": [
    "<a id='p3'></a>\n",
    "\n",
    "## Problema 03\n",
    "\n",
    "\n",
    "Un **cuadrado mágico** es una matriz de tamaño $n \\times n$ de números enteros positivos tal que \n",
    "la suma de los números por columnas, filas y diagonales principales sea la misma. Usualmente, los números empleados para rellenar las casillas son consecutivos, de 1 a $n^2$, siendo $n$ el número de columnas y filas del cuadrado mágico.\n",
    "\n",
    "Si los números son consecutivos de 1 a $n^2$, la suma de los números por columnas, filas y diagonales principales \n",
    "es igual a : $$\\displaystyle M_{n} = \\dfrac{n(n^2+1)}{2}$$\n",
    "Por ejemplo, \n",
    "\n",
    "* $A= \\begin{pmatrix}\n",
    " 4& 9 &2 \\\\ \n",
    " 3&  5&7 \\\\ \n",
    " 8& 1 &6 \n",
    "\\end{pmatrix}$,\n",
    "es un cuadrado mágico.\n",
    "\n",
    "* $B= \\begin{pmatrix}\n",
    " 4& 2 &9 \\\\ \n",
    " 3&  5&7 \\\\ \n",
    " 8& 1 &6 \n",
    "\\end{pmatrix}$, no es un cuadrado mágico.\n",
    "\n",
    "Implemente una función llamada `es_cudrado_magico` cuyo input sea una matriz cuadrada de tamaño $n$ con números consecutivos de $1$ a $n^2$ y cuyo ouput retorne *True* si es un cuadrado mágico o 'False', en caso contrario\n",
    "\n",
    "* **Ejemplo**: *es_cudrado_magico($A$)* = True, *es_cudrado_magico($B$)* = False\n",
    "\n",
    "**Hint**: Cree una función que valide la mariz es cuadrada y  que sus números son consecutivos del 1 a $n^2$."
   ]
  },
  {
   "cell_type": "markdown",
   "metadata": {},
   "source": [
    "### Definir Función"
   ]
  },
  {
   "cell_type": "code",
   "execution_count": 17,
   "metadata": {},
   "outputs": [],
   "source": [
    "def contar(lista):\n",
    "    return {i:lista.count(i) for i in lista} # Retorna cantidad de elementos repetidos en una lista"
   ]
  },
  {
   "cell_type": "code",
   "execution_count": 18,
   "metadata": {},
   "outputs": [],
   "source": [
    "def es_cudrado_magico (matriz) :\n",
    "    if matriz.shape[0] == matriz.shape[1]:\n",
    "    \n",
    "        N = len(matriz[0])   # tamaño de la matriz \n",
    "        sumas = []   # Aquí se irán guardando las sumas. Al final de verifican que sean iguales.\n",
    "\n",
    "        # suma filas\n",
    "        for i in range (N) :\n",
    "            suma = 0\n",
    "            for j in range (N) :\n",
    "                suma += matriz[i][j]\n",
    "            sumas.append (suma)\n",
    "\n",
    "        # suma columnas\n",
    "        for j in range (N) :\n",
    "            suma = 0\n",
    "            for i in range (N) :\n",
    "                suma += matriz[i][j]\n",
    "            sumas.append (suma)\n",
    "\n",
    "        # suma diagonal (Extremo superior izquierdo -> Extremo inferior derecho)\n",
    "        suma = 0\n",
    "        for k in range (N):\n",
    "            suma += matriz[k][k]\n",
    "        sumas.append (suma)\n",
    "\n",
    "        # suma diagonal (Extremo inferior izquierdo -> Extremo superior derecho)\n",
    "        suma = 0\n",
    "        for j in range (N):\n",
    "            i = N - 1 - j\n",
    "            suma += matriz[i][j]\n",
    "        sumas.append (suma)\n",
    "\n",
    "        # verificar que las sumas sean iguales y retornar\n",
    "        numero_repetidos=contar(sumas) \n",
    "        maximo=max(numero_repetidos, key=numero_repetidos.get)\n",
    "        if numero_repetidos[maximo] == len(sumas):\n",
    "            return True\n",
    "        else:\n",
    "            return False\n",
    "    else:\n",
    "        print('La matriz no es cuadrada')"
   ]
  },
  {
   "cell_type": "markdown",
   "metadata": {},
   "source": [
    "### Verificar ejemplos"
   ]
  },
  {
   "cell_type": "code",
   "execution_count": 19,
   "metadata": {},
   "outputs": [],
   "source": [
    "# ejemplo 01\n",
    "A = np.array([[4,9,2],[3,5,7],[8,1,6]])\n",
    "assert es_cudrado_magico(A) == True, \"ejemplo 01 incorrecto\""
   ]
  },
  {
   "cell_type": "code",
   "execution_count": 20,
   "metadata": {},
   "outputs": [],
   "source": [
    "# ejemplo 02\n",
    "B = np.array([[4,2,9],[3,5,7],[8,1,6]])\n",
    "assert es_cudrado_magico(B) == False, \"ejemplo 02 incorrecto\""
   ]
  },
  {
   "cell_type": "code",
   "execution_count": 21,
   "metadata": {},
   "outputs": [
    {
     "name": "stdout",
     "output_type": "stream",
     "text": [
      "La matriz no es cuadrada\n"
     ]
    }
   ],
   "source": [
    "# ejemplo 03\n",
    "C = np.array([[4,2,9],[3,5,7],[8,1,6],[1,3,7]])\n",
    "es_cudrado_magico(C)"
   ]
  }
 ],
 "metadata": {
  "kernelspec": {
   "display_name": "Python 3",
   "language": "python",
   "name": "python3"
  },
  "language_info": {
   "codemirror_mode": {
    "name": "ipython",
    "version": 3
   },
   "file_extension": ".py",
   "mimetype": "text/x-python",
   "name": "python",
   "nbconvert_exporter": "python",
   "pygments_lexer": "ipython3",
   "version": "3.8.5"
  }
 },
 "nbformat": 4,
 "nbformat_minor": 4
}
